{
  "nbformat": 4,
  "nbformat_minor": 0,
  "metadata": {
    "colab": {
      "name": "decisiontree.ipynb",
      "provenance": [],
      "authorship_tag": "ABX9TyOgLuZ+qM6/nDB2L4FGKZtv",
      "include_colab_link": true
    },
    "kernelspec": {
      "name": "python3",
      "display_name": "Python 3"
    },
    "language_info": {
      "name": "python"
    }
  },
  "cells": [
    {
      "cell_type": "markdown",
      "metadata": {
        "id": "view-in-github",
        "colab_type": "text"
      },
      "source": [
        "<a href=\"https://colab.research.google.com/github/zalpin1932/DM/blob/main/decisiontree.ipynb\" target=\"_parent\"><img src=\"https://colab.research.google.com/assets/colab-badge.svg\" alt=\"Open In Colab\"/></a>"
      ]
    },
    {
      "cell_type": "code",
      "execution_count": 1,
      "metadata": {
        "id": "7Qty3L5F9GJl"
      },
      "outputs": [],
      "source": [
        "import numpy as np\n",
        "import pandas as pd\n",
        "from sklearn import tree"
      ]
    },
    {
      "cell_type": "code",
      "source": [
        "irisDataset = pd.read_csv('Dataset Iris.csv', delimiter=';', header = 0)\n",
        "irisDataset[\"Species\"] = pd.factorize(irisDataset.Species)[0]\n",
        "irisDataset = irisDataset.drop(labels=\"Id\", axis = 1)\n",
        "irisDataset = irisDataset.to_numpy()"
      ],
      "metadata": {
        "id": "WbEqsUBKAZhp"
      },
      "execution_count": 2,
      "outputs": []
    },
    {
      "cell_type": "code",
      "source": [
        "print(irisDataset)"
      ],
      "metadata": {
        "colab": {
          "base_uri": "https://localhost:8080/"
        },
        "id": "Uscmc_2HAbYE",
        "outputId": "2acd1c59-b626-4fe3-c8ba-4cbebaaed37d"
      },
      "execution_count": 3,
      "outputs": [
        {
          "output_type": "stream",
          "name": "stdout",
          "text": [
            "[[7.   3.02 4.07 1.04 0.  ]\n",
            " [6.04 3.02 4.05 1.05 0.  ]\n",
            " [6.09 3.01 4.09 1.05 0.  ]\n",
            " [5.05 2.03 4.   1.03 0.  ]\n",
            " [6.05 2.08 4.06 1.05 0.  ]\n",
            " [5.07 2.08 4.05 1.03 0.  ]\n",
            " [6.03 3.03 4.07 1.06 0.  ]\n",
            " [4.09 2.04 3.03 1.   0.  ]\n",
            " [6.06 2.09 4.06 1.03 0.  ]\n",
            " [5.02 2.07 3.09 1.04 0.  ]\n",
            " [5.   2.   3.05 1.   0.  ]\n",
            " [5.09 3.   4.02 1.05 0.  ]\n",
            " [6.   2.02 4.   1.   0.  ]\n",
            " [6.01 2.09 4.07 1.04 0.  ]\n",
            " [5.06 2.09 3.06 1.03 0.  ]\n",
            " [6.07 3.01 4.04 1.04 0.  ]\n",
            " [5.06 3.   4.05 1.05 0.  ]\n",
            " [5.08 2.07 4.01 1.   0.  ]\n",
            " [6.02 2.02 4.05 1.05 0.  ]\n",
            " [5.06 2.05 3.09 1.01 0.  ]\n",
            " [5.09 3.02 4.08 1.08 0.  ]\n",
            " [6.01 2.08 4.   1.03 0.  ]\n",
            " [6.03 2.05 4.09 1.05 0.  ]\n",
            " [6.01 2.08 4.07 1.02 0.  ]\n",
            " [6.04 2.09 4.03 1.03 0.  ]\n",
            " [6.06 3.   4.04 1.04 0.  ]\n",
            " [6.08 2.08 4.08 1.04 0.  ]\n",
            " [6.07 3.   5.   1.07 0.  ]\n",
            " [6.   2.09 4.05 1.05 0.  ]\n",
            " [5.07 2.06 3.05 1.   0.  ]\n",
            " [5.05 2.04 3.08 1.01 0.  ]\n",
            " [5.05 2.04 3.07 1.   0.  ]\n",
            " [5.08 2.07 3.09 1.02 0.  ]\n",
            " [6.   2.07 5.01 1.06 0.  ]\n",
            " [5.04 3.   4.05 1.05 0.  ]\n",
            " [6.   3.04 4.05 1.06 0.  ]\n",
            " [6.07 3.01 4.07 1.05 0.  ]\n",
            " [6.03 2.03 4.04 1.03 0.  ]\n",
            " [5.06 3.   4.01 1.03 0.  ]\n",
            " [5.05 2.05 4.   1.03 0.  ]\n",
            " [5.05 2.06 4.04 1.02 0.  ]\n",
            " [6.01 3.   4.06 1.04 0.  ]\n",
            " [5.08 2.06 4.   1.02 0.  ]\n",
            " [5.   2.03 3.03 1.   0.  ]\n",
            " [5.06 2.07 4.02 1.03 0.  ]\n",
            " [5.07 3.   4.02 1.02 0.  ]\n",
            " [5.07 2.09 4.02 1.03 0.  ]\n",
            " [6.02 2.09 4.03 1.03 0.  ]\n",
            " [5.01 2.05 3.   1.01 0.  ]\n",
            " [5.07 2.08 4.01 1.03 0.  ]\n",
            " [6.03 3.03 6.   2.05 1.  ]\n",
            " [5.08 2.07 5.01 1.09 1.  ]\n",
            " [7.01 3.   5.09 2.01 1.  ]\n",
            " [6.03 2.09 5.06 1.08 1.  ]\n",
            " [6.05 3.   5.08 2.02 1.  ]\n",
            " [7.06 3.   6.06 2.01 1.  ]\n",
            " [4.09 2.05 4.05 1.07 1.  ]\n",
            " [7.03 2.09 6.03 1.08 1.  ]\n",
            " [6.07 2.05 5.08 1.08 1.  ]\n",
            " [7.02 3.06 6.01 2.05 1.  ]\n",
            " [6.05 3.02 5.01 2.   1.  ]\n",
            " [6.04 2.07 5.03 1.09 1.  ]\n",
            " [6.08 3.   5.05 2.01 1.  ]\n",
            " [5.07 2.05 5.   2.   1.  ]\n",
            " [5.08 2.08 5.01 2.04 1.  ]\n",
            " [6.04 3.02 5.03 2.03 1.  ]\n",
            " [6.05 3.   5.05 1.08 1.  ]\n",
            " [7.07 3.08 6.07 2.02 1.  ]\n",
            " [7.07 2.06 6.09 2.03 1.  ]\n",
            " [6.   2.02 5.   1.05 1.  ]\n",
            " [6.09 3.02 5.07 2.03 1.  ]\n",
            " [5.06 2.08 4.09 2.   1.  ]\n",
            " [7.07 2.08 6.07 2.   1.  ]\n",
            " [6.03 2.07 4.09 1.08 1.  ]\n",
            " [6.07 3.03 5.07 2.01 1.  ]\n",
            " [7.02 3.02 6.   1.08 1.  ]\n",
            " [6.02 2.08 4.08 1.08 1.  ]\n",
            " [6.01 3.   4.09 1.08 1.  ]\n",
            " [6.04 2.08 5.06 2.01 1.  ]\n",
            " [7.02 3.   5.08 1.06 1.  ]\n",
            " [7.04 2.08 6.01 1.09 1.  ]\n",
            " [7.09 3.08 6.04 2.   1.  ]\n",
            " [6.04 2.08 5.06 2.02 1.  ]\n",
            " [6.03 2.08 5.01 1.05 1.  ]\n",
            " [6.01 2.06 5.06 1.04 1.  ]\n",
            " [7.07 3.   6.01 2.03 1.  ]\n",
            " [6.03 3.04 5.06 2.04 1.  ]\n",
            " [6.04 3.01 5.05 1.08 1.  ]\n",
            " [6.   3.   4.08 1.08 1.  ]\n",
            " [6.09 3.01 5.04 2.01 1.  ]\n",
            " [6.07 3.01 5.06 2.04 1.  ]\n",
            " [6.09 3.01 5.01 2.03 1.  ]\n",
            " [5.08 2.07 5.01 1.09 1.  ]\n",
            " [6.08 3.02 5.09 2.03 1.  ]\n",
            " [6.07 3.03 5.07 2.05 1.  ]\n",
            " [6.07 3.   5.02 2.03 1.  ]\n",
            " [6.03 2.05 5.   1.09 1.  ]\n",
            " [6.05 3.   5.02 2.   1.  ]\n",
            " [6.02 3.04 5.04 2.03 1.  ]\n",
            " [5.09 3.   5.01 1.08 1.  ]]\n"
          ]
        }
      ]
    },
    {
      "cell_type": "code",
      "source": [
        "dataTraining = np.concatenate((irisDataset[0:40, :], irisDataset[50:90, :]),axis = 0) \n",
        "dataTesting = np.concatenate((irisDataset[40:50, :], irisDataset[90:100, :]),axis = 0)"
      ],
      "metadata": {
        "id": "lOTUn_-JAfsk"
      },
      "execution_count": 4,
      "outputs": []
    },
    {
      "cell_type": "code",
      "source": [
        "print(dataTesting)\n",
        "len(dataTesting)"
      ],
      "metadata": {
        "colab": {
          "base_uri": "https://localhost:8080/"
        },
        "id": "QA3_fKfsAiRq",
        "outputId": "3ff52914-1506-42e3-f905-f60b491faea5"
      },
      "execution_count": 5,
      "outputs": [
        {
          "output_type": "stream",
          "name": "stdout",
          "text": [
            "[[5.05 2.06 4.04 1.02 0.  ]\n",
            " [6.01 3.   4.06 1.04 0.  ]\n",
            " [5.08 2.06 4.   1.02 0.  ]\n",
            " [5.   2.03 3.03 1.   0.  ]\n",
            " [5.06 2.07 4.02 1.03 0.  ]\n",
            " [5.07 3.   4.02 1.02 0.  ]\n",
            " [5.07 2.09 4.02 1.03 0.  ]\n",
            " [6.02 2.09 4.03 1.03 0.  ]\n",
            " [5.01 2.05 3.   1.01 0.  ]\n",
            " [5.07 2.08 4.01 1.03 0.  ]\n",
            " [6.07 3.01 5.06 2.04 1.  ]\n",
            " [6.09 3.01 5.01 2.03 1.  ]\n",
            " [5.08 2.07 5.01 1.09 1.  ]\n",
            " [6.08 3.02 5.09 2.03 1.  ]\n",
            " [6.07 3.03 5.07 2.05 1.  ]\n",
            " [6.07 3.   5.02 2.03 1.  ]\n",
            " [6.03 2.05 5.   1.09 1.  ]\n",
            " [6.05 3.   5.02 2.   1.  ]\n",
            " [6.02 3.04 5.04 2.03 1.  ]\n",
            " [5.09 3.   5.01 1.08 1.  ]]\n"
          ]
        },
        {
          "output_type": "execute_result",
          "data": {
            "text/plain": [
              "20"
            ]
          },
          "metadata": {},
          "execution_count": 5
        }
      ]
    },
    {
      "cell_type": "code",
      "source": [
        "inputTraining = dataTraining[:, 0:4]\n",
        "inputTesting = dataTesting[:, 0:4]\n",
        "labelTraining = dataTraining[:, 4]\n",
        "labelTesting = dataTesting[:, 4]\n",
        "print(labelTraining)\n",
        "len(labelTraining)"
      ],
      "metadata": {
        "colab": {
          "base_uri": "https://localhost:8080/"
        },
        "id": "Uxy5_LcWAlTy",
        "outputId": "b764c8f9-fcbf-4c0b-d006-8eb1e7c207a0"
      },
      "execution_count": 6,
      "outputs": [
        {
          "output_type": "stream",
          "name": "stdout",
          "text": [
            "[0. 0. 0. 0. 0. 0. 0. 0. 0. 0. 0. 0. 0. 0. 0. 0. 0. 0. 0. 0. 0. 0. 0. 0.\n",
            " 0. 0. 0. 0. 0. 0. 0. 0. 0. 0. 0. 0. 0. 0. 0. 0. 1. 1. 1. 1. 1. 1. 1. 1.\n",
            " 1. 1. 1. 1. 1. 1. 1. 1. 1. 1. 1. 1. 1. 1. 1. 1. 1. 1. 1. 1. 1. 1. 1. 1.\n",
            " 1. 1. 1. 1. 1. 1. 1. 1.]\n"
          ]
        },
        {
          "output_type": "execute_result",
          "data": {
            "text/plain": [
              "80"
            ]
          },
          "metadata": {},
          "execution_count": 6
        }
      ]
    },
    {
      "cell_type": "code",
      "source": [
        "model = tree.DecisionTreeClassifier()"
      ],
      "metadata": {
        "id": "QGZG4USdAnRC"
      },
      "execution_count": 7,
      "outputs": []
    },
    {
      "cell_type": "code",
      "source": [
        "model = model.fit(inputTraining, labelTraining)"
      ],
      "metadata": {
        "id": "gK_Pu1eYApds"
      },
      "execution_count": 8,
      "outputs": []
    },
    {
      "cell_type": "code",
      "source": [
        "hasilPrediksi = model.predict(inputTesting)\n",
        "print(\"Label Sebenarnya : \", labelTesting)\n",
        "print(\"Hasil Prediksi : \", hasilPrediksi)"
      ],
      "metadata": {
        "colab": {
          "base_uri": "https://localhost:8080/"
        },
        "id": "nPnAWCQ1Arj6",
        "outputId": "32666052-cc25-4411-8072-05b94fc01bfd"
      },
      "execution_count": 9,
      "outputs": [
        {
          "output_type": "stream",
          "name": "stdout",
          "text": [
            "Label Sebenarnya :  [0. 0. 0. 0. 0. 0. 0. 0. 0. 0. 1. 1. 1. 1. 1. 1. 1. 1. 1. 1.]\n",
            "Hasil Prediksi :  [0. 0. 0. 0. 0. 0. 0. 0. 0. 0. 1. 1. 1. 1. 1. 1. 1. 1. 1. 1.]\n"
          ]
        }
      ]
    },
    {
      "cell_type": "code",
      "source": [
        "prediksiBenar = (hasilPrediksi == labelTesting).sum()\n",
        "prediksiSalah = (hasilPrediksi != labelTesting).sum()\n",
        "print(\"Prediksi Benar : \", prediksiBenar, \"data\")\n",
        "print(\"Prediksi Salah : \", prediksiSalah, \"data\")\n",
        "print(\"Akurasi : \",prediksiBenar/(prediksiBenar+prediksiSalah) * 100, \"%\")"
      ],
      "metadata": {
        "colab": {
          "base_uri": "https://localhost:8080/"
        },
        "id": "yuyu8mV1Ar4u",
        "outputId": "fe8b0130-add0-4452-f578-0f119f8c1bf1"
      },
      "execution_count": 10,
      "outputs": [
        {
          "output_type": "stream",
          "name": "stdout",
          "text": [
            "Prediksi Benar :  20 data\n",
            "Prediksi Salah :  0 data\n",
            "Akurasi :  100.0 %\n"
          ]
        }
      ]
    }
  ]
}